{
 "metadata": {
  "name": "",
  "signature": "sha256:23b622bbcbb0aa1bd54153810063cb3911b11e19b6ec27a9320d2f23f0ca3b03"
 },
 "nbformat": 3,
 "nbformat_minor": 0,
 "worksheets": []
}