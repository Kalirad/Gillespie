{
 "metadata": {
  "name": "",
  "signature": "sha256:085e5725342f776919d50111fc4e720aab96e09606d2ec5909cc9fa548994bcc"
 },
 "nbformat": 3,
 "nbformat_minor": 0,
 "worksheets": [
  {
   "cells": [
    {
     "cell_type": "code",
     "collapsed": false,
     "input": [
      "import numpy as np"
     ],
     "language": "python",
     "metadata": {},
     "outputs": [],
     "prompt_number": 1
    },
    {
     "cell_type": "code",
     "collapsed": false,
     "input": [
      "config = np.array([[1, 0, 0, 'R', 0.0], [2, 0, 0, 'R', -11.7], [3, 0, 'R', 0, -10.1], [4, 'R', 0, 0, -10.1], [5, 0, 0, 'C', -10.8],\n",
      "                   [6, 0, 'C', 0, -10.8], [7, 'C', 0, 0, -12.1], [8,'RNAP', 0, 0, -11.5], [9, 0, 'RNAP', 'RNAP', -12.5], \n",
      "                    [10, 0, 'R', 'R', -23,7], [11, 'R',  0, 'R', -21.8], [12, 'R', 'R', 0, -22.2], [13, 0, 'C', 'C', -21.6],\n",
      "                    [14, 'C', 0, 'C', -22.9], [15, 'C', 'C', 0, -22.9], [16, 'RNAP', 'RNAP', 'RNAP', -24], [17, 0, 'C', 'R', -22.5],\n",
      "                    [18, 0, 'R', 'C', -20.9], [19, 'R', 0, 'C', -20.9], [20, 'C', 0, 'R', -23.8], [21, 'R', 'C', 0, -20.9], \n",
      "                    [22, 'C', 'R', 0, -22.2], [23, 'R', 'RNAP', 'RNAP', -22.6], [24, 'RNAP', 'R', 0, -21.6], [25, 'RNAP', 0, 'R', -23.2],\n",
      "                    [26, 'C', 'RNAP', 'RNAP', -24.6], [27, 'RNAP', 'C', 0, -22.3], [28, 'RNAP', 0, 'C', -22.3], [29, 'R', 'R', 'R', -33.8], \n",
      "                    [30, 'C', 'C', 'C', -33.7], [ 31, 'C', 'R', 'R', -35.8], [32, 'R', 'C', 'R', -32.6], [33, 'R', 'R', 'C', -33.0], \n",
      "                    [34, 'R', 'C', 'C', -31.7], [35, 'C', 'R', 'C', -33.0], [36, 'C', 'C', 'R', -34.6], [37, 'RNAP', 'R', 'R', -35.2], \n",
      "                    [38, 'RNAP', 'C', 'C', -33.1], [39, 'RNAP', 'C', 'R', -34.0], [40, 'RNAP', 'R', 'C', -32.4]\n",
      "                    ])\n",
      "print config\n",
      "m = config[39][3]\n",
      "print m\n",
      "type(3)"
     ],
     "language": "python",
     "metadata": {},
     "outputs": [
      {
       "output_type": "stream",
       "stream": "stdout",
       "text": [
        "[[1, 0, 0, 'R', 0.0] [2, 0, 0, 'R', -11.7] [3, 0, 'R', 0, -10.1]\n",
        " [4, 'R', 0, 0, -10.1] [5, 0, 0, 'C', -10.8] [6, 0, 'C', 0, -10.8]\n",
        " [7, 'C', 0, 0, -12.1] [8, 'RNAP', 0, 0, -11.5]\n",
        " [9, 0, 'RNAP', 'RNAP', -12.5] [10, 0, 'R', 'R', -23, 7]\n",
        " [11, 'R', 0, 'R', -21.8] [12, 'R', 'R', 0, -22.2] [13, 0, 'C', 'C', -21.6]\n",
        " [14, 'C', 0, 'C', -22.9] [15, 'C', 'C', 0, -22.9]\n",
        " [16, 'RNAP', 'RNAP', 'RNAP', -24] [17, 0, 'C', 'R', -22.5]\n",
        " [18, 0, 'R', 'C', -20.9] [19, 'R', 0, 'C', -20.9] [20, 'C', 0, 'R', -23.8]\n",
        " [21, 'R', 'C', 0, -20.9] [22, 'C', 'R', 0, -22.2]\n",
        " [23, 'R', 'RNAP', 'RNAP', -22.6] [24, 'RNAP', 'R', 0, -21.6]\n",
        " [25, 'RNAP', 0, 'R', -23.2] [26, 'C', 'RNAP', 'RNAP', -24.6]\n",
        " [27, 'RNAP', 'C', 0, -22.3] [28, 'RNAP', 0, 'C', -22.3]\n",
        " [29, 'R', 'R', 'R', -33.8] [30, 'C', 'C', 'C', -33.7]\n",
        " [31, 'C', 'R', 'R', -35.8] [32, 'R', 'C', 'R', -32.6]\n",
        " [33, 'R', 'R', 'C', -33.0] [34, 'R', 'C', 'C', -31.7]\n",
        " [35, 'C', 'R', 'C', -33.0] [36, 'C', 'C', 'R', -34.6]\n",
        " [37, 'RNAP', 'R', 'R', -35.2] [38, 'RNAP', 'C', 'C', -33.1]\n",
        " [39, 'RNAP', 'C', 'R', -34.0] [40, 'RNAP', 'R', 'C', -32.4]]\n",
        "C\n"
       ]
      },
      {
       "metadata": {},
       "output_type": "pyout",
       "prompt_number": 135,
       "text": [
        "int"
       ]
      }
     ],
     "prompt_number": 135
    },
    {
     "cell_type": "code",
     "collapsed": false,
     "input": [],
     "language": "python",
     "metadata": {},
     "outputs": [],
     "prompt_number": 124
    },
    {
     "cell_type": "code",
     "collapsed": false,
     "input": [
      "def total_free_energy(or1,or2,or3):\n",
      "    config = np.array([[1, 0, 0, 0, 0.0], [2, 0, 0, 'R', -11.7], [3, 0, 'R', 0, -10.1], [4, 'R', 0, 0, -10.1], [5, 0, 0, 'C', -10.8],\n",
      "                   [6, 0, 'C', 0, -10.8], [7, 'C', 0, 0, -12.1], [8,'RNAP', 0, 0, -11.5], [9, 0, 'RNAP', 'RNAP', -12.5], \n",
      "                    [10, 0, 'R', 'R', -23,7], [11, 'R',  0, 'R', -21.8], [12, 'R', 'R', 0, -22.2], [13, 0, 'C', 'C', -21.6],\n",
      "                    [14, 'C', 0, 'C', -22.9], [15, 'C', 'C', 0, -22.9], [16, 'RNAP', 'RNAP', 'RNAP', -24], [17, 0, 'C', 'R', -22.5],\n",
      "                    [18, 0, 'R', 'C', -20.9], [19, 'R', 0, 'C', -20.9], [20, 'C', 0, 'R', -23.8], [21, 'R', 'C', 0, -20.9], \n",
      "                    [22, 'C', 'R', 0, -22.2], [23, 'R', 'RNAP', 'RNAP', -22.6], [24, 'RNAP', 'R', 0, -21.6], [25, 'RNAP', 0, 'R', -23.2],\n",
      "                    [26, 'C', 'RNAP', 'RNAP', -24.6], [27, 'RNAP', 'C', 0, -22.3], [28, 'RNAP', 0, 'C', -22.3], [29, 'R', 'R', 'R', -33.8], \n",
      "                    [30, 'C', 'C', 'C', -33.7], [ 31, 'C', 'R', 'R', -35.8], [32, 'R', 'C', 'R', -32.6], [33, 'R', 'R', 'C', -33.0], \n",
      "                    [34, 'R', 'C', 'C', -31.7], [35, 'C', 'R', 'C', -33.0], [36, 'C', 'C', 'R', -34.6], [37, 'RNAP', 'R', 'R', -35.2], \n",
      "                    [38, 'RNAP', 'C', 'C', -33.1], [39, 'RNAP', 'C', 'R', -34.0], [40, 'RNAP', 'R', 'C', -32.4]\n",
      "                    ])\n",
      "    AG = 0\n",
      "    or1 = or1\n",
      "    or2 = or2\n",
      "    or3 = or3\n",
      "    for i in config:\n",
      "        if (i[1] == or1 and i[2] == or2 and i[3] == or3):\n",
      "            AG = i[4]\n",
      "    return AG\n",
      "    print or1,or2, or3"
     ],
     "language": "python",
     "metadata": {},
     "outputs": [],
     "prompt_number": 2
    },
    {
     "cell_type": "code",
     "collapsed": false,
     "input": [
      "states_test = total_free_energy(0, 0,'C')\n",
      "print states_test"
     ],
     "language": "python",
     "metadata": {},
     "outputs": [
      {
       "output_type": "stream",
       "stream": "stdout",
       "text": [
        "-10.8\n"
       ]
      }
     ],
     "prompt_number": 6
    },
    {
     "cell_type": "code",
     "collapsed": false,
     "input": [],
     "language": "python",
     "metadata": {},
     "outputs": [],
     "prompt_number": 201
    },
    {
     "cell_type": "code",
     "collapsed": false,
     "input": [],
     "language": "python",
     "metadata": {},
     "outputs": [],
     "prompt_number": 204
    },
    {
     "cell_type": "code",
     "collapsed": false,
     "input": [],
     "language": "python",
     "metadata": {},
     "outputs": [],
     "prompt_number": 204
    },
    {
     "cell_type": "code",
     "collapsed": false,
     "input": [],
     "language": "python",
     "metadata": {},
     "outputs": []
    }
   ],
   "metadata": {}
  }
 ]
}